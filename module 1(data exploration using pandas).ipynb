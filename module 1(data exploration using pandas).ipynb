{
 "cells": [
  {
   "cell_type": "code",
   "execution_count": null,
   "metadata": {},
   "outputs": [],
   "source": [
    "# importing lib\n",
    "import pandas as pd\n",
    "import matplotlib.pyplot as plt\n",
    "import numpy as np"
   ]
  },
  {
   "cell_type": "code",
   "execution_count": null,
   "metadata": {},
   "outputs": [],
   "source": [
    "# loading the dataset\n",
    "info = pd.read_csv('INFY.csv')"
   ]
  },
  {
   "cell_type": "code",
   "execution_count": null,
   "metadata": {},
   "outputs": [],
   "source": [
    "info.head()"
   ]
  },
  {
   "cell_type": "code",
   "execution_count": null,
   "metadata": {},
   "outputs": [],
   "source": [
    "info.describe()"
   ]
  },
  {
   "cell_type": "code",
   "execution_count": null,
   "metadata": {},
   "outputs": [],
   "source": [
    "info.Series.unique()"
   ]
  },
  {
   "cell_type": "code",
   "execution_count": null,
   "metadata": {},
   "outputs": [],
   "source": [
    "info = info[info['Series']== 'EQ']"
   ]
  },
  {
   "cell_type": "code",
   "execution_count": null,
   "metadata": {},
   "outputs": [],
   "source": [
    "info.Series.unique()"
   ]
  },
  {
   "cell_type": "code",
   "execution_count": null,
   "metadata": {},
   "outputs": [],
   "source": [
    "info.describe()"
   ]
  },
  {
   "cell_type": "code",
   "execution_count": null,
   "metadata": {},
   "outputs": [],
   "source": [
    "info.head()\n"
   ]
  },
  {
   "cell_type": "code",
   "execution_count": null,
   "metadata": {},
   "outputs": [],
   "source": [
    "info.tail()"
   ]
  },
  {
   "cell_type": "code",
   "execution_count": null,
   "metadata": {},
   "outputs": [],
   "source": [
    "info.plot(subplots=True,figsize=(15,15));"
   ]
  },
  {
   "cell_type": "code",
   "execution_count": null,
   "metadata": {},
   "outputs": [],
   "source": [
    "# dataframe with only last 90 days\n",
    "last_90_info =info[404:]\n",
    "last_90_info.shape"
   ]
  },
  {
   "cell_type": "code",
   "execution_count": null,
   "metadata": {},
   "outputs": [],
   "source": [
    "last_90_info.columns"
   ]
  },
  {
   "cell_type": "code",
   "execution_count": null,
   "metadata": {},
   "outputs": [],
   "source": [
    "# calculating max, mean and min values of price in last 90 days \n",
    "last_90_info['Close Price'].max(),last_90_info['Close Price'].mean(),last_90_info['Close Price'].min()"
   ]
  },
  {
   "cell_type": "code",
   "execution_count": null,
   "metadata": {},
   "outputs": [],
   "source": [
    "# checking the format for all columns\n",
    "info.dtypes"
   ]
  },
  {
   "cell_type": "code",
   "execution_count": null,
   "metadata": {},
   "outputs": [],
   "source": [
    "# changing the date format for further convenience\n",
    "info['Date']=info['Date'].astype('datetime64[ns]')\n",
    "info.dtypes"
   ]
  },
  {
   "cell_type": "code",
   "execution_count": null,
   "metadata": {},
   "outputs": [],
   "source": [
    "# trying operations on the new date format\n",
    "info['Date'][294] - info['Date'][0]"
   ]
  },
  {
   "cell_type": "code",
   "execution_count": null,
   "metadata": {},
   "outputs": [],
   "source": [
    "# creating year and month columns\n",
    "info['Year']=pd.DatetimeIndex(info['Date']).year\n",
    "info['month']=pd.DatetimeIndex(info['Date']).month"
   ]
  },
  {
   "cell_type": "code",
   "execution_count": null,
   "metadata": {},
   "outputs": [],
   "source": [
    "info"
   ]
  },
  {
   "cell_type": "code",
   "execution_count": null,
   "metadata": {},
   "outputs": [],
   "source": [
    "# creating a function to compute the volume weighted average price \n",
    "def vwap(df):\n",
    "    q = df['No. of Trades'].values\n",
    "    p = df['Close Price'].values\n",
    "    return df.assign(vwap=(p * q).cumsum() / q.cumsum())\n"
   ]
  },
  {
   "cell_type": "code",
   "execution_count": null,
   "metadata": {},
   "outputs": [],
   "source": [
    "info_new = vwap(info)\n",
    "info_new"
   ]
  },
  {
   "cell_type": "code",
   "execution_count": null,
   "metadata": {},
   "outputs": [],
   "source": [
    "# creating new dataframe with vwap column\n",
    "info_new = vwap(info)\n",
    "\n",
    "# Grouping it by year and month and taking the mean to get the monthly volume weighted average.\n",
    "info_new.groupby(['Year','month']).mean()"
   ]
  },
  {
   "cell_type": "code",
   "execution_count": null,
   "metadata": {},
   "outputs": [],
   "source": [
    "# creating a new column to having values of daily percentage change  \n",
    "info_new['Day_Perc_Change'] = info_new[\"Close Price\"].pct_change()*100\n"
   ]
  },
  {
   "cell_type": "code",
   "execution_count": null,
   "metadata": {},
   "outputs": [],
   "source": [
    "# filling the null value to zero\n",
    "info_new['Day_Perc_Change']=info_new['Day_Perc_Change'].fillna(0)\n",
    "info_new"
   ]
  },
  {
   "cell_type": "code",
   "execution_count": null,
   "metadata": {},
   "outputs": [],
   "source": [
    "# Creating fuction to calculate average price for last N days\n",
    "def avg_price_ndays(df,N):\n",
    "    data = df.tail(N)\n",
    "    avg_cal = data['Close Price'].mean()\n",
    "    print (f'The average price for last {N} days = {avg_cal}')\n",
    "\n",
    "# Creating fuction to compute Profit/Loss percentage for last N days \n",
    "def profit_loss_ndays(df,N):\n",
    "    data = df.tail(N)\n",
    "    percentage = (data['Day_Perc_Change'].sum())\n",
    "    print(f'The profit/loss over the last {N} days = {percentage}%')\n",
    "    "
   ]
  },
  {
   "cell_type": "code",
   "execution_count": null,
   "metadata": {},
   "outputs": [],
   "source": [
    "# Runing both function for 1 week, 2 week, 1 month, 3 months,6 months and a year\n",
    "avg_price_ndays(info_new,7)\n",
    "profit_loss_ndays(info_new,7)\n",
    "\n",
    "avg_price_ndays(info_new,14)\n",
    "profit_loss_ndays(info_new,14)\n",
    "\n",
    "avg_price_ndays(info_new,30)\n",
    "profit_loss_ndays(info_new,30)\n",
    "\n",
    "avg_price_ndays(info_new,90)\n",
    "profit_loss_ndays(info_new,90)\n",
    "\n",
    "avg_price_ndays(info_new,180)\n",
    "profit_loss_ndays(info_new,180)\n",
    "                 \n",
    "avg_price_ndays(info_new,365)\n",
    "profit_loss_ndays(info_new,365)"
   ]
  },
  {
   "cell_type": "code",
   "execution_count": null,
   "metadata": {},
   "outputs": [],
   "source": [
    "# creating a function to help create Trend column\n",
    "def trend_col_creator(df):\n",
    "    data =df['Day_Perc_Change']\n",
    "    length =len(df)\n",
    "    trend = []\n",
    "    for i in data:\n",
    "        if -0.5<i<0.5:\n",
    "            trend.append('Slightly or NO Change')\n",
    "        elif 0.5<i<1:\n",
    "            trend.append('Slightly Positive')\n",
    "        elif -1<i<-0.5:\n",
    "            trend.append('Slightly Negative')\n",
    "        elif 1<i<3:\n",
    "            trend.append('Positive')\n",
    "        elif -3<i<-1:\n",
    "            trend.append('Negative') \n",
    "        elif 3<i<7:\n",
    "            trend.append('Among Top Gainers')\n",
    "        elif -7<i<-3:\n",
    "            trend.append('Among Top Losers')  \n",
    "        elif i<7:\n",
    "            trend.append('Bull Run')\n",
    "        elif i>7:\n",
    "            trend.append('Bear drop')\n",
    "    print(len(trend))\n",
    "    df['trend'] = trend\n",
    "    return df['trend']"
   ]
  },
  {
   "cell_type": "code",
   "execution_count": null,
   "metadata": {},
   "outputs": [],
   "source": [
    "trend_col_creator(info_new)\n"
   ]
  },
  {
   "cell_type": "code",
   "execution_count": null,
   "metadata": {},
   "outputs": [],
   "source": [
    "# checking the category types within the Trend column\n",
    "info_new['trend'].unique()"
   ]
  },
  {
   "cell_type": "code",
   "execution_count": null,
   "metadata": {},
   "outputs": [],
   "source": [
    "# Calculating the mean and median of total traded quantity over different trends \n",
    "info['Total Traded Quantity'].groupby(info_new['trend']).mean()\n"
   ]
  },
  {
   "cell_type": "code",
   "execution_count": null,
   "metadata": {},
   "outputs": [],
   "source": [
    "info['Total Traded Quantity'].groupby(info_new['trend']).median()"
   ]
  },
  {
   "cell_type": "code",
   "execution_count": null,
   "metadata": {},
   "outputs": [],
   "source": [
    "# final dataframe\n",
    "info_new.head()"
   ]
  },
  {
   "cell_type": "code",
   "execution_count": null,
   "metadata": {},
   "outputs": [],
   "source": [
    "# Saving the dataframe into a csv file \n",
    "info_new.to_csv('week2.csv')"
   ]
  }
 ],
 "metadata": {
  "kernelspec": {
   "display_name": "Python 3",
   "language": "python",
   "name": "python3"
  },
  "language_info": {
   "codemirror_mode": {
    "name": "ipython",
    "version": 3
   },
   "file_extension": ".py",
   "mimetype": "text/x-python",
   "name": "python",
   "nbconvert_exporter": "python",
   "pygments_lexer": "ipython3",
   "version": "3.8.3"
  }
 },
 "nbformat": 4,
 "nbformat_minor": 4
}
