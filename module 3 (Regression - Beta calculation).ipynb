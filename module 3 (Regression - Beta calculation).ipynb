{
 "cells": [
  {
   "cell_type": "code",
   "execution_count": null,
   "metadata": {},
   "outputs": [],
   "source": []
  },
  {
   "cell_type": "markdown",
   "metadata": {},
   "source": [
    "# MODULE -3\n",
    "\n",
    "## FINDAMENTAL ANALYSIS USING REGRESSION"
   ]
  },
  {
   "cell_type": "code",
   "execution_count": 65,
   "metadata": {},
   "outputs": [],
   "source": [
    "# importing libraries\n",
    "import pandas as pd\n",
    "import numpy as np\n",
    "import matplotlib.pyplot as plt\n",
    "import seaborn as sns\n",
    "from sklearn.linear_model import LinearRegression\n",
    "from sklearn.model_selection import train_test_split\n",
    "from sklearn.metrics import r2_score,mean_squared_error\n",
    "import statsmodels.api as sm"
   ]
  },
  {
   "cell_type": "code",
   "execution_count": 66,
   "metadata": {},
   "outputs": [
    {
     "name": "stdout",
     "output_type": "stream",
     "text": [
      "<class 'pandas.core.frame.DataFrame'>\n",
      "RangeIndex: 512 entries, 0 to 511\n",
      "Data columns (total 9 columns):\n",
      " #   Column    Non-Null Count  Dtype  \n",
      "---  ------    --------------  -----  \n",
      " 0   Date      512 non-null    object \n",
      " 1   Price     512 non-null    int64  \n",
      " 2   Open      512 non-null    int64  \n",
      " 3   High      512 non-null    int64  \n",
      " 4   Low       512 non-null    int64  \n",
      " 5   Vol.      512 non-null    object \n",
      " 6   Change %  512 non-null    object \n",
      " 7   Pred      411 non-null    float64\n",
      " 8   new       512 non-null    float64\n",
      "dtypes: float64(2), int64(4), object(3)\n",
      "memory usage: 36.1+ KB\n"
     ]
    },
    {
     "data": {
      "text/html": [
       "<div>\n",
       "<style scoped>\n",
       "    .dataframe tbody tr th:only-of-type {\n",
       "        vertical-align: middle;\n",
       "    }\n",
       "\n",
       "    .dataframe tbody tr th {\n",
       "        vertical-align: top;\n",
       "    }\n",
       "\n",
       "    .dataframe thead th {\n",
       "        text-align: right;\n",
       "    }\n",
       "</style>\n",
       "<table border=\"1\" class=\"dataframe\">\n",
       "  <thead>\n",
       "    <tr style=\"text-align: right;\">\n",
       "      <th></th>\n",
       "      <th>Date</th>\n",
       "      <th>Price</th>\n",
       "      <th>Open</th>\n",
       "      <th>High</th>\n",
       "      <th>Low</th>\n",
       "      <th>Vol.</th>\n",
       "      <th>Change %</th>\n",
       "      <th>Pred</th>\n",
       "      <th>new</th>\n",
       "    </tr>\n",
       "  </thead>\n",
       "  <tbody>\n",
       "    <tr>\n",
       "      <th>0</th>\n",
       "      <td>May 04, 2017</td>\n",
       "      <td>28060</td>\n",
       "      <td>28400</td>\n",
       "      <td>28482</td>\n",
       "      <td>28025</td>\n",
       "      <td>0.08K</td>\n",
       "      <td>-1.79%</td>\n",
       "      <td>738.0</td>\n",
       "      <td>117.570740</td>\n",
       "    </tr>\n",
       "    <tr>\n",
       "      <th>1</th>\n",
       "      <td>May 05, 2017</td>\n",
       "      <td>28184</td>\n",
       "      <td>28136</td>\n",
       "      <td>28382</td>\n",
       "      <td>28135</td>\n",
       "      <td>0.06K</td>\n",
       "      <td>0.44%</td>\n",
       "      <td>-146.0</td>\n",
       "      <td>295.430176</td>\n",
       "    </tr>\n",
       "    <tr>\n",
       "      <th>2</th>\n",
       "      <td>May 08, 2017</td>\n",
       "      <td>28119</td>\n",
       "      <td>28145</td>\n",
       "      <td>28255</td>\n",
       "      <td>28097</td>\n",
       "      <td>7.85K</td>\n",
       "      <td>-0.23%</td>\n",
       "      <td>30.0</td>\n",
       "      <td>132.123714</td>\n",
       "    </tr>\n",
       "    <tr>\n",
       "      <th>3</th>\n",
       "      <td>May 09, 2017</td>\n",
       "      <td>27981</td>\n",
       "      <td>28125</td>\n",
       "      <td>28192</td>\n",
       "      <td>27947</td>\n",
       "      <td>10.10K</td>\n",
       "      <td>-0.49%</td>\n",
       "      <td>357.0</td>\n",
       "      <td>101.298064</td>\n",
       "    </tr>\n",
       "    <tr>\n",
       "      <th>4</th>\n",
       "      <td>May 10, 2017</td>\n",
       "      <td>28007</td>\n",
       "      <td>28060</td>\n",
       "      <td>28146</td>\n",
       "      <td>27981</td>\n",
       "      <td>9.28K</td>\n",
       "      <td>0.09%</td>\n",
       "      <td>124.0</td>\n",
       "      <td>112.153318</td>\n",
       "    </tr>\n",
       "  </tbody>\n",
       "</table>\n",
       "</div>"
      ],
      "text/plain": [
       "           Date  Price   Open   High    Low    Vol. Change %   Pred  \\\n",
       "0  May 04, 2017  28060  28400  28482  28025   0.08K   -1.79%  738.0   \n",
       "1  May 05, 2017  28184  28136  28382  28135   0.06K    0.44% -146.0   \n",
       "2  May 08, 2017  28119  28145  28255  28097   7.85K   -0.23%   30.0   \n",
       "3  May 09, 2017  27981  28125  28192  27947  10.10K   -0.49%  357.0   \n",
       "4  May 10, 2017  28007  28060  28146  27981   9.28K    0.09%  124.0   \n",
       "\n",
       "          new  \n",
       "0  117.570740  \n",
       "1  295.430176  \n",
       "2  132.123714  \n",
       "3  101.298064  \n",
       "4  112.153318  "
      ]
     },
     "execution_count": 66,
     "metadata": {},
     "output_type": "execute_result"
    }
   ],
   "source": [
    "gold = pd.read_csv('GOLD.csv')\n",
    "gold.info()\n",
    "gold.head()"
   ]
  },
  {
   "cell_type": "code",
   "execution_count": 67,
   "metadata": {},
   "outputs": [
    {
     "name": "stdout",
     "output_type": "stream",
     "text": [
      "<class 'pandas.core.frame.DataFrame'>\n",
      "Int64Index: 411 entries, 0 to 410\n",
      "Data columns (total 9 columns):\n",
      " #   Column    Non-Null Count  Dtype  \n",
      "---  ------    --------------  -----  \n",
      " 0   Date      411 non-null    object \n",
      " 1   Price     411 non-null    int64  \n",
      " 2   Open      411 non-null    int64  \n",
      " 3   High      411 non-null    int64  \n",
      " 4   Low       411 non-null    int64  \n",
      " 5   Vol.      411 non-null    object \n",
      " 6   Change %  411 non-null    object \n",
      " 7   Pred      411 non-null    float64\n",
      " 8   new       411 non-null    float64\n",
      "dtypes: float64(2), int64(4), object(3)\n",
      "memory usage: 32.1+ KB\n"
     ]
    }
   ],
   "source": [
    "gold_train= gold.dropna()\n",
    "gold_train.info()"
   ]
  },
  {
   "cell_type": "code",
   "execution_count": 68,
   "metadata": {},
   "outputs": [
    {
     "data": {
      "text/html": [
       "<div>\n",
       "<style scoped>\n",
       "    .dataframe tbody tr th:only-of-type {\n",
       "        vertical-align: middle;\n",
       "    }\n",
       "\n",
       "    .dataframe tbody tr th {\n",
       "        vertical-align: top;\n",
       "    }\n",
       "\n",
       "    .dataframe thead th {\n",
       "        text-align: right;\n",
       "    }\n",
       "</style>\n",
       "<table border=\"1\" class=\"dataframe\">\n",
       "  <thead>\n",
       "    <tr style=\"text-align: right;\">\n",
       "      <th></th>\n",
       "      <th>Price</th>\n",
       "      <th>Open</th>\n",
       "      <th>High</th>\n",
       "      <th>Low</th>\n",
       "      <th>Pred</th>\n",
       "      <th>new</th>\n",
       "    </tr>\n",
       "  </thead>\n",
       "  <tbody>\n",
       "    <tr>\n",
       "      <th>count</th>\n",
       "      <td>411.000000</td>\n",
       "      <td>411.000000</td>\n",
       "      <td>411.000000</td>\n",
       "      <td>411.000000</td>\n",
       "      <td>411.000000</td>\n",
       "      <td>411.000000</td>\n",
       "    </tr>\n",
       "    <tr>\n",
       "      <th>mean</th>\n",
       "      <td>29934.956204</td>\n",
       "      <td>29931.501217</td>\n",
       "      <td>30051.121655</td>\n",
       "      <td>29817.895377</td>\n",
       "      <td>341.712895</td>\n",
       "      <td>237.811874</td>\n",
       "    </tr>\n",
       "    <tr>\n",
       "      <th>std</th>\n",
       "      <td>1004.074382</td>\n",
       "      <td>1003.263473</td>\n",
       "      <td>1012.606075</td>\n",
       "      <td>994.941509</td>\n",
       "      <td>271.075609</td>\n",
       "      <td>201.208916</td>\n",
       "    </tr>\n",
       "    <tr>\n",
       "      <th>min</th>\n",
       "      <td>27812.000000</td>\n",
       "      <td>27805.000000</td>\n",
       "      <td>27887.000000</td>\n",
       "      <td>27620.000000</td>\n",
       "      <td>-146.000000</td>\n",
       "      <td>11.109814</td>\n",
       "    </tr>\n",
       "    <tr>\n",
       "      <th>25%</th>\n",
       "      <td>29220.500000</td>\n",
       "      <td>29221.500000</td>\n",
       "      <td>29344.500000</td>\n",
       "      <td>29111.000000</td>\n",
       "      <td>156.500000</td>\n",
       "      <td>100.716619</td>\n",
       "    </tr>\n",
       "    <tr>\n",
       "      <th>50%</th>\n",
       "      <td>29957.000000</td>\n",
       "      <td>29960.000000</td>\n",
       "      <td>30096.000000</td>\n",
       "      <td>29830.000000</td>\n",
       "      <td>299.000000</td>\n",
       "      <td>173.315183</td>\n",
       "    </tr>\n",
       "    <tr>\n",
       "      <th>75%</th>\n",
       "      <td>30705.000000</td>\n",
       "      <td>30700.000000</td>\n",
       "      <td>30837.500000</td>\n",
       "      <td>30580.000000</td>\n",
       "      <td>475.000000</td>\n",
       "      <td>308.057815</td>\n",
       "    </tr>\n",
       "    <tr>\n",
       "      <th>max</th>\n",
       "      <td>31895.000000</td>\n",
       "      <td>31877.000000</td>\n",
       "      <td>32075.000000</td>\n",
       "      <td>31725.000000</td>\n",
       "      <td>2210.000000</td>\n",
       "      <td>1121.430991</td>\n",
       "    </tr>\n",
       "  </tbody>\n",
       "</table>\n",
       "</div>"
      ],
      "text/plain": [
       "              Price          Open          High           Low         Pred  \\\n",
       "count    411.000000    411.000000    411.000000    411.000000   411.000000   \n",
       "mean   29934.956204  29931.501217  30051.121655  29817.895377   341.712895   \n",
       "std     1004.074382   1003.263473   1012.606075    994.941509   271.075609   \n",
       "min    27812.000000  27805.000000  27887.000000  27620.000000  -146.000000   \n",
       "25%    29220.500000  29221.500000  29344.500000  29111.000000   156.500000   \n",
       "50%    29957.000000  29960.000000  30096.000000  29830.000000   299.000000   \n",
       "75%    30705.000000  30700.000000  30837.500000  30580.000000   475.000000   \n",
       "max    31895.000000  31877.000000  32075.000000  31725.000000  2210.000000   \n",
       "\n",
       "               new  \n",
       "count   411.000000  \n",
       "mean    237.811874  \n",
       "std     201.208916  \n",
       "min      11.109814  \n",
       "25%     100.716619  \n",
       "50%     173.315183  \n",
       "75%     308.057815  \n",
       "max    1121.430991  "
      ]
     },
     "execution_count": 68,
     "metadata": {},
     "output_type": "execute_result"
    }
   ],
   "source": [
    "gold_train.describe()"
   ]
  },
  {
   "cell_type": "markdown",
   "metadata": {},
   "source": [
    "### inferance \n",
    " It is very clear after using describe() method that the 'new' column is a *polynomial* function of the inputs and the 'Pred' column is a linear model. It is evident from looking at the standard deviation that 'new' has **low variance** as compared to 'Pred', as this is possible only if there is a curve fitted into the data(in case of polynomial function) whereas, since Pred is a linear combination of inputs, there will be a line fitted into the data and thus, incurring a higher variance due to outliers.\n"
   ]
  },
  {
   "cell_type": "markdown",
   "metadata": {},
   "source": [
    "## linear regression model\n"
   ]
  },
  {
   "cell_type": "code",
   "execution_count": 69,
   "metadata": {},
   "outputs": [
    {
     "data": {
      "text/plain": [
       "LinearRegression(copy_X=True, fit_intercept=True, n_jobs=None, normalize=False)"
      ]
     },
     "execution_count": 69,
     "metadata": {},
     "output_type": "execute_result"
    }
   ],
   "source": [
    "linear_mod = LinearRegression()\n",
    "X_train = gold_train[['Price','Open','High','Low']].values\n",
    "y_train = gold_train['Pred'].values. reshape(-1,1)\n",
    "linear_mod.fit(X_train,y_train)\n"
   ]
  },
  {
   "cell_type": "markdown",
   "metadata": {},
   "source": [
    "### Co-efficent "
   ]
  },
  {
   "cell_type": "code",
   "execution_count": 70,
   "metadata": {},
   "outputs": [
    {
     "data": {
      "text/plain": [
       "array([[ 2.],\n",
       "       [ 3.],\n",
       "       [-1.],\n",
       "       [-4.]])"
      ]
     },
     "execution_count": 70,
     "metadata": {},
     "output_type": "execute_result"
    }
   ],
   "source": [
    "co = linear_mod.coef_.reshape(-1,1)\n",
    "co\n"
   ]
  },
  {
   "cell_type": "code",
   "execution_count": 71,
   "metadata": {},
   "outputs": [
    {
     "data": {
      "text/html": [
       "<div>\n",
       "<style scoped>\n",
       "    .dataframe tbody tr th:only-of-type {\n",
       "        vertical-align: middle;\n",
       "    }\n",
       "\n",
       "    .dataframe tbody tr th {\n",
       "        vertical-align: top;\n",
       "    }\n",
       "\n",
       "    .dataframe thead th {\n",
       "        text-align: right;\n",
       "    }\n",
       "</style>\n",
       "<table border=\"1\" class=\"dataframe\">\n",
       "  <thead>\n",
       "    <tr style=\"text-align: right;\">\n",
       "      <th></th>\n",
       "      <th>co-efficent</th>\n",
       "    </tr>\n",
       "  </thead>\n",
       "  <tbody>\n",
       "    <tr>\n",
       "      <th>Price</th>\n",
       "      <td>2.0</td>\n",
       "    </tr>\n",
       "    <tr>\n",
       "      <th>Open</th>\n",
       "      <td>3.0</td>\n",
       "    </tr>\n",
       "    <tr>\n",
       "      <th>High</th>\n",
       "      <td>-1.0</td>\n",
       "    </tr>\n",
       "    <tr>\n",
       "      <th>Low</th>\n",
       "      <td>-4.0</td>\n",
       "    </tr>\n",
       "  </tbody>\n",
       "</table>\n",
       "</div>"
      ],
      "text/plain": [
       "       co-efficent\n",
       "Price          2.0\n",
       "Open           3.0\n",
       "High          -1.0\n",
       "Low           -4.0"
      ]
     },
     "execution_count": 71,
     "metadata": {},
     "output_type": "execute_result"
    }
   ],
   "source": [
    "coeff_pred = pd.DataFrame(co,['Price','Open','High','Low'],columns=['co-efficent'])\n",
    "coeff_pred"
   ]
  },
  {
   "cell_type": "markdown",
   "metadata": {},
   "source": [
    "###  filling predict column using the same model"
   ]
  },
  {
   "cell_type": "code",
   "execution_count": 72,
   "metadata": {},
   "outputs": [
    {
     "name": "stdout",
     "output_type": "stream",
     "text": [
      "<class 'pandas.core.frame.DataFrame'>\n",
      "RangeIndex: 512 entries, 0 to 511\n",
      "Data columns (total 1 columns):\n",
      " #   Column  Non-Null Count  Dtype  \n",
      "---  ------  --------------  -----  \n",
      " 0   0       512 non-null    float64\n",
      "dtypes: float64(1)\n",
      "memory usage: 4.1 KB\n"
     ]
    }
   ],
   "source": [
    "X_full = gold[['Price','Open','High','Low']].values\n",
    "y_pred = linear_mod.predict(X_full)\n",
    "y_pred_df = pd.DataFrame(y_pred)\n",
    "y_pred_df.info()"
   ]
  },
  {
   "cell_type": "code",
   "execution_count": 73,
   "metadata": {},
   "outputs": [
    {
     "name": "stdout",
     "output_type": "stream",
     "text": [
      "<class 'pandas.core.frame.DataFrame'>\n",
      "RangeIndex: 512 entries, 0 to 511\n",
      "Data columns (total 9 columns):\n",
      " #   Column    Non-Null Count  Dtype  \n",
      "---  ------    --------------  -----  \n",
      " 0   Date      512 non-null    object \n",
      " 1   Price     512 non-null    int64  \n",
      " 2   Open      512 non-null    int64  \n",
      " 3   High      512 non-null    int64  \n",
      " 4   Low       512 non-null    int64  \n",
      " 5   Vol.      512 non-null    object \n",
      " 6   Change %  512 non-null    object \n",
      " 7   Pred      512 non-null    float64\n",
      " 8   new       512 non-null    float64\n",
      "dtypes: float64(2), int64(4), object(3)\n",
      "memory usage: 36.1+ KB\n"
     ]
    }
   ],
   "source": [
    "gold['Pred']=y_pred_df\n",
    "gold.info()"
   ]
  },
  {
   "cell_type": "markdown",
   "metadata": {},
   "source": [
    "## Polynomial model\n"
   ]
  },
  {
   "cell_type": "code",
   "execution_count": 74,
   "metadata": {
    "scrolled": true
   },
   "outputs": [
    {
     "data": {
      "text/plain": [
       "LinearRegression(copy_X=True, fit_intercept=True, n_jobs=None, normalize=False)"
      ]
     },
     "execution_count": 74,
     "metadata": {},
     "output_type": "execute_result"
    }
   ],
   "source": [
    "# spliting into features and labels\n",
    "X = gold[['Price','Open','High','Low']].values\n",
    "Y = gold['new'].values\n",
    "# spliting into train and test sets\n",
    "np.random.seed(0)\n",
    "X_train,X_test,y_train,y_test = train_test_split(X,Y,test_size=.2)\n",
    "y_train = y_train.reshape(-1,1)\n",
    "y_test = y_test.reshape(-1,1)\n",
    "X_train.shape,X_test.shape,y_train.shape\n",
    "\n",
    "# fiting model\n",
    "regress_poly = LinearRegression()\n",
    "\n",
    "regress_poly.fit(X_train,y_train)"
   ]
  },
  {
   "cell_type": "code",
   "execution_count": 75,
   "metadata": {},
   "outputs": [
    {
     "data": {
      "text/plain": [
       "0.9999901742208237"
      ]
     },
     "execution_count": 75,
     "metadata": {},
     "output_type": "execute_result"
    }
   ],
   "source": [
    "\n",
    "\n",
    "\n",
    "\n",
    " # evaluating the model\n",
    "new_pred = regress_poly.predict(X_test)\n",
    "new_pred.dtype,y_test.dtype\n",
    "regress_poly.score(X_test,y_test)"
   ]
  },
  {
   "cell_type": "code",
   "execution_count": 76,
   "metadata": {},
   "outputs": [
    {
     "data": {
      "text/plain": [
       "((512, 1), (512, 1))"
      ]
     },
     "execution_count": 76,
     "metadata": {},
     "output_type": "execute_result"
    }
   ],
   "source": [
    "regress_poly.predict(X).shape,Y.reshape(-1,1).shape"
   ]
  },
  {
   "cell_type": "code",
   "execution_count": 77,
   "metadata": {
    "scrolled": true
   },
   "outputs": [
    {
     "data": {
      "text/plain": [
       "0.9999886432824331"
      ]
     },
     "execution_count": 77,
     "metadata": {},
     "output_type": "execute_result"
    }
   ],
   "source": [
    "r2_score(Y, regress_poly.predict(X))"
   ]
  },
  {
   "cell_type": "markdown",
   "metadata": {},
   "source": [
    "### Co-efficent "
   ]
  },
  {
   "cell_type": "code",
   "execution_count": 78,
   "metadata": {},
   "outputs": [
    {
     "data": {
      "text/html": [
       "<div>\n",
       "<style scoped>\n",
       "    .dataframe tbody tr th:only-of-type {\n",
       "        vertical-align: middle;\n",
       "    }\n",
       "\n",
       "    .dataframe tbody tr th {\n",
       "        vertical-align: top;\n",
       "    }\n",
       "\n",
       "    .dataframe thead th {\n",
       "        text-align: right;\n",
       "    }\n",
       "</style>\n",
       "<table border=\"1\" class=\"dataframe\">\n",
       "  <thead>\n",
       "    <tr style=\"text-align: right;\">\n",
       "      <th></th>\n",
       "      <th>co-efficent</th>\n",
       "    </tr>\n",
       "  </thead>\n",
       "  <tbody>\n",
       "    <tr>\n",
       "      <th>Price</th>\n",
       "      <td>1.013039</td>\n",
       "    </tr>\n",
       "    <tr>\n",
       "      <th>Open</th>\n",
       "      <td>-1.000300</td>\n",
       "    </tr>\n",
       "    <tr>\n",
       "      <th>High</th>\n",
       "      <td>1.005123</td>\n",
       "    </tr>\n",
       "    <tr>\n",
       "      <th>Low</th>\n",
       "      <td>-1.017938</td>\n",
       "    </tr>\n",
       "  </tbody>\n",
       "</table>\n",
       "</div>"
      ],
      "text/plain": [
       "       co-efficent\n",
       "Price     1.013039\n",
       "Open     -1.000300\n",
       "High      1.005123\n",
       "Low      -1.017938"
      ]
     },
     "execution_count": 78,
     "metadata": {},
     "output_type": "execute_result"
    }
   ],
   "source": [
    "co_new = regress_poly.coef_.reshape(-1,1)\n",
    "co_new_df = pd.DataFrame(co_new,['Price','Open','High','Low'],columns=['co-efficent'])\n",
    "co_new_df"
   ]
  },
  {
   "cell_type": "markdown",
   "metadata": {},
   "source": [
    "## ploting distplot and histogram"
   ]
  },
  {
   "cell_type": "code",
   "execution_count": 79,
   "metadata": {},
   "outputs": [
    {
     "data": {
      "text/plain": [
       "[Text(0.5, 1.0, 'New')]"
      ]
     },
     "execution_count": 79,
     "metadata": {},
     "output_type": "execute_result"
    },
    {
     "data": {
      "image/png": "[encoded data removed]",
      "text/plain": [
       "<Figure size 1440x576 with 2 Axes>"
      ]
     },
     "metadata": {
      "needs_background": "light"
     },
     "output_type": "display_data"
    }
   ],
   "source": [
    "fig,ax = plt.subplots(1,2,figsize=(20,8))\n",
    "ax[0].hist(y_pred)\n",
    "ax[0].set(title='Pred')\n",
    "ax[1].hist(regress_poly.predict(X))\n",
    "ax[1].set(title='New')"
   ]
  },
  {
   "cell_type": "code",
   "execution_count": 80,
   "metadata": {},
   "outputs": [
    {
     "data": {
      "text/plain": [
       "Text(0.5, 1.0, 'Pred')"
      ]
     },
     "execution_count": 80,
     "metadata": {},
     "output_type": "execute_result"
    },
    {
     "data": {
      "image/png": "[encoded data removed]",
      "text/plain": [
       "<Figure size 1440x504 with 1 Axes>"
      ]
     },
     "metadata": {
      "needs_background": "light"
     },
     "output_type": "display_data"
    }
   ],
   "source": [
    "# distplot of pred predicted\n",
    "plt.figure(figsize=(20,7))\n",
    "sns.distplot(y_pred)\n",
    "plt.title ('Pred')"
   ]
  },
  {
   "cell_type": "code",
   "execution_count": 81,
   "metadata": {},
   "outputs": [
    {
     "data": {
      "text/plain": [
       "Text(0.5, 1.0, 'New')"
      ]
     },
     "execution_count": 81,
     "metadata": {},
     "output_type": "execute_result"
    },
    {
     "data": {
      "image/png": "[encoded data removed]",
      "text/plain": [
       "<Figure size 1440x504 with 1 Axes>"
      ]
     },
     "metadata": {
      "needs_background": "light"
     },
     "output_type": "display_data"
    }
   ],
   "source": [
    "# distplot of New predicted\n",
    "ax,fig = plt.subplots(figsize=(20,7))\n",
    "sns.distplot( regress_poly.predict(X))\n",
    "plt.title ('New')"
   ]
  },
  {
   "cell_type": "markdown",
   "metadata": {},
   "source": [
    "# 3.2\n",
    "## FInding daily BETA for last 3 months and monthly BETA\n"
   ]
  },
  {
   "cell_type": "code",
   "execution_count": 82,
   "metadata": {},
   "outputs": [
    {
     "data": {
      "text/html": [
       "<div>\n",
       "<style scoped>\n",
       "    .dataframe tbody tr th:only-of-type {\n",
       "        vertical-align: middle;\n",
       "    }\n",
       "\n",
       "    .dataframe tbody tr th {\n",
       "        vertical-align: top;\n",
       "    }\n",
       "\n",
       "    .dataframe thead th {\n",
       "        text-align: right;\n",
       "    }\n",
       "</style>\n",
       "<table border=\"1\" class=\"dataframe\">\n",
       "  <thead>\n",
       "    <tr style=\"text-align: right;\">\n",
       "      <th></th>\n",
       "      <th>Date</th>\n",
       "      <th>Open</th>\n",
       "      <th>High</th>\n",
       "      <th>Low</th>\n",
       "      <th>Close</th>\n",
       "      <th>Shares Traded</th>\n",
       "      <th>Turnover (Rs. Cr)</th>\n",
       "    </tr>\n",
       "  </thead>\n",
       "  <tbody>\n",
       "    <tr>\n",
       "      <th>0</th>\n",
       "      <td>15-May-2017</td>\n",
       "      <td>9433.55</td>\n",
       "      <td>9449.25</td>\n",
       "      <td>9423.10</td>\n",
       "      <td>9445.40</td>\n",
       "      <td>145163953</td>\n",
       "      <td>7790.97</td>\n",
       "    </tr>\n",
       "    <tr>\n",
       "      <th>1</th>\n",
       "      <td>16-May-2017</td>\n",
       "      <td>9461.00</td>\n",
       "      <td>9517.20</td>\n",
       "      <td>9456.35</td>\n",
       "      <td>9512.25</td>\n",
       "      <td>171709433</td>\n",
       "      <td>9209.89</td>\n",
       "    </tr>\n",
       "    <tr>\n",
       "      <th>2</th>\n",
       "      <td>17-May-2017</td>\n",
       "      <td>9517.60</td>\n",
       "      <td>9532.60</td>\n",
       "      <td>9486.10</td>\n",
       "      <td>9525.75</td>\n",
       "      <td>211856040</td>\n",
       "      <td>10726.23</td>\n",
       "    </tr>\n",
       "    <tr>\n",
       "      <th>3</th>\n",
       "      <td>18-May-2017</td>\n",
       "      <td>9453.20</td>\n",
       "      <td>9489.10</td>\n",
       "      <td>9418.10</td>\n",
       "      <td>9429.45</td>\n",
       "      <td>199340647</td>\n",
       "      <td>10782.46</td>\n",
       "    </tr>\n",
       "    <tr>\n",
       "      <th>4</th>\n",
       "      <td>19-May-2017</td>\n",
       "      <td>9469.90</td>\n",
       "      <td>9505.75</td>\n",
       "      <td>9390.75</td>\n",
       "      <td>9427.90</td>\n",
       "      <td>259861396</td>\n",
       "      <td>11544.77</td>\n",
       "    </tr>\n",
       "    <tr>\n",
       "      <th>...</th>\n",
       "      <td>...</td>\n",
       "      <td>...</td>\n",
       "      <td>...</td>\n",
       "      <td>...</td>\n",
       "      <td>...</td>\n",
       "      <td>...</td>\n",
       "      <td>...</td>\n",
       "    </tr>\n",
       "    <tr>\n",
       "      <th>489</th>\n",
       "      <td>07-May-2019</td>\n",
       "      <td>11651.50</td>\n",
       "      <td>11657.05</td>\n",
       "      <td>11484.45</td>\n",
       "      <td>11497.90</td>\n",
       "      <td>337495624</td>\n",
       "      <td>16632.84</td>\n",
       "    </tr>\n",
       "    <tr>\n",
       "      <th>490</th>\n",
       "      <td>08-May-2019</td>\n",
       "      <td>11478.70</td>\n",
       "      <td>11479.10</td>\n",
       "      <td>11346.95</td>\n",
       "      <td>11359.45</td>\n",
       "      <td>372826025</td>\n",
       "      <td>17440.01</td>\n",
       "    </tr>\n",
       "    <tr>\n",
       "      <th>491</th>\n",
       "      <td>09-May-2019</td>\n",
       "      <td>11322.40</td>\n",
       "      <td>11357.60</td>\n",
       "      <td>11255.05</td>\n",
       "      <td>11301.80</td>\n",
       "      <td>373028059</td>\n",
       "      <td>17602.86</td>\n",
       "    </tr>\n",
       "    <tr>\n",
       "      <th>492</th>\n",
       "      <td>10-May-2019</td>\n",
       "      <td>11314.15</td>\n",
       "      <td>11345.80</td>\n",
       "      <td>11251.05</td>\n",
       "      <td>11278.90</td>\n",
       "      <td>387323416</td>\n",
       "      <td>18085.19</td>\n",
       "    </tr>\n",
       "    <tr>\n",
       "      <th>493</th>\n",
       "      <td>13-May-2019</td>\n",
       "      <td>11258.70</td>\n",
       "      <td>11300.20</td>\n",
       "      <td>11125.60</td>\n",
       "      <td>11148.20</td>\n",
       "      <td>357586433</td>\n",
       "      <td>16722.91</td>\n",
       "    </tr>\n",
       "  </tbody>\n",
       "</table>\n",
       "<p>494 rows × 7 columns</p>\n",
       "</div>"
      ],
      "text/plain": [
       "            Date      Open      High       Low     Close  Shares Traded  \\\n",
       "0    15-May-2017   9433.55   9449.25   9423.10   9445.40      145163953   \n",
       "1    16-May-2017   9461.00   9517.20   9456.35   9512.25      171709433   \n",
       "2    17-May-2017   9517.60   9532.60   9486.10   9525.75      211856040   \n",
       "3    18-May-2017   9453.20   9489.10   9418.10   9429.45      199340647   \n",
       "4    19-May-2017   9469.90   9505.75   9390.75   9427.90      259861396   \n",
       "..           ...       ...       ...       ...       ...            ...   \n",
       "489  07-May-2019  11651.50  11657.05  11484.45  11497.90      337495624   \n",
       "490  08-May-2019  11478.70  11479.10  11346.95  11359.45      372826025   \n",
       "491  09-May-2019  11322.40  11357.60  11255.05  11301.80      373028059   \n",
       "492  10-May-2019  11314.15  11345.80  11251.05  11278.90      387323416   \n",
       "493  13-May-2019  11258.70  11300.20  11125.60  11148.20      357586433   \n",
       "\n",
       "     Turnover (Rs. Cr)  \n",
       "0              7790.97  \n",
       "1              9209.89  \n",
       "2             10726.23  \n",
       "3             10782.46  \n",
       "4             11544.77  \n",
       "..                 ...  \n",
       "489           16632.84  \n",
       "490           17440.01  \n",
       "491           17602.86  \n",
       "492           18085.19  \n",
       "493           16722.91  \n",
       "\n",
       "[494 rows x 7 columns]"
      ]
     },
     "execution_count": 82,
     "metadata": {},
     "output_type": "execute_result"
    }
   ],
   "source": [
    "# importing and cleaning the nifty dataset\n",
    "info = pd.read_csv('.\\Large_Cap\\INFY.csv')\n",
    "nifty = pd.read_csv('Nifty50.csv')\n",
    "per_change = pd.DataFrame(index=nifty['Date'])\n",
    "nifty"
   ]
  },
  {
   "cell_type": "code",
   "execution_count": 83,
   "metadata": {},
   "outputs": [
    {
     "data": {
      "text/html": [
       "<div>\n",
       "<style scoped>\n",
       "    .dataframe tbody tr th:only-of-type {\n",
       "        vertical-align: middle;\n",
       "    }\n",
       "\n",
       "    .dataframe tbody tr th {\n",
       "        vertical-align: top;\n",
       "    }\n",
       "\n",
       "    .dataframe thead th {\n",
       "        text-align: right;\n",
       "    }\n",
       "</style>\n",
       "<table border=\"1\" class=\"dataframe\">\n",
       "  <thead>\n",
       "    <tr style=\"text-align: right;\">\n",
       "      <th></th>\n",
       "      <th>Symbol</th>\n",
       "      <th>Series</th>\n",
       "      <th>Prev Close</th>\n",
       "      <th>Open Price</th>\n",
       "      <th>High Price</th>\n",
       "      <th>Low Price</th>\n",
       "      <th>Last Price</th>\n",
       "      <th>Close Price</th>\n",
       "      <th>Average Price</th>\n",
       "      <th>Total Traded Quantity</th>\n",
       "      <th>Turnover</th>\n",
       "      <th>No. of Trades</th>\n",
       "      <th>Deliverable Qty</th>\n",
       "      <th>% Dly Qt to Traded Qty</th>\n",
       "    </tr>\n",
       "    <tr>\n",
       "      <th>Date</th>\n",
       "      <th></th>\n",
       "      <th></th>\n",
       "      <th></th>\n",
       "      <th></th>\n",
       "      <th></th>\n",
       "      <th></th>\n",
       "      <th></th>\n",
       "      <th></th>\n",
       "      <th></th>\n",
       "      <th></th>\n",
       "      <th></th>\n",
       "      <th></th>\n",
       "      <th></th>\n",
       "      <th></th>\n",
       "    </tr>\n",
       "  </thead>\n",
       "  <tbody>\n",
       "    <tr>\n",
       "      <th>15-May-2017</th>\n",
       "      <td>INFY</td>\n",
       "      <td>EQ</td>\n",
       "      <td>964.25</td>\n",
       "      <td>963.50</td>\n",
       "      <td>963.50</td>\n",
       "      <td>949.10</td>\n",
       "      <td>953.25</td>\n",
       "      <td>951.55</td>\n",
       "      <td>951.49</td>\n",
       "      <td>3648582</td>\n",
       "      <td>3.471580e+09</td>\n",
       "      <td>75335</td>\n",
       "      <td>3052819</td>\n",
       "      <td>83.67</td>\n",
       "    </tr>\n",
       "    <tr>\n",
       "      <th>16-May-2017</th>\n",
       "      <td>INFY</td>\n",
       "      <td>EQ</td>\n",
       "      <td>951.55</td>\n",
       "      <td>953.10</td>\n",
       "      <td>960.15</td>\n",
       "      <td>946.95</td>\n",
       "      <td>956.00</td>\n",
       "      <td>955.00</td>\n",
       "      <td>952.92</td>\n",
       "      <td>3065084</td>\n",
       "      <td>2.920775e+09</td>\n",
       "      <td>71808</td>\n",
       "      <td>1858063</td>\n",
       "      <td>60.62</td>\n",
       "    </tr>\n",
       "    <tr>\n",
       "      <th>17-May-2017</th>\n",
       "      <td>INFY</td>\n",
       "      <td>EQ</td>\n",
       "      <td>955.00</td>\n",
       "      <td>951.60</td>\n",
       "      <td>958.45</td>\n",
       "      <td>943.85</td>\n",
       "      <td>952.90</td>\n",
       "      <td>952.80</td>\n",
       "      <td>949.48</td>\n",
       "      <td>1457754</td>\n",
       "      <td>1.384110e+09</td>\n",
       "      <td>75429</td>\n",
       "      <td>792251</td>\n",
       "      <td>54.35</td>\n",
       "    </tr>\n",
       "    <tr>\n",
       "      <th>18-May-2017</th>\n",
       "      <td>INFY</td>\n",
       "      <td>EQ</td>\n",
       "      <td>952.80</td>\n",
       "      <td>943.00</td>\n",
       "      <td>973.90</td>\n",
       "      <td>942.85</td>\n",
       "      <td>960.25</td>\n",
       "      <td>961.75</td>\n",
       "      <td>962.61</td>\n",
       "      <td>4028924</td>\n",
       "      <td>3.878282e+09</td>\n",
       "      <td>120990</td>\n",
       "      <td>2309450</td>\n",
       "      <td>57.32</td>\n",
       "    </tr>\n",
       "    <tr>\n",
       "      <th>19-May-2017</th>\n",
       "      <td>INFY</td>\n",
       "      <td>EQ</td>\n",
       "      <td>961.75</td>\n",
       "      <td>961.50</td>\n",
       "      <td>962.70</td>\n",
       "      <td>947.85</td>\n",
       "      <td>957.40</td>\n",
       "      <td>957.95</td>\n",
       "      <td>954.18</td>\n",
       "      <td>2128698</td>\n",
       "      <td>2.031155e+09</td>\n",
       "      <td>88897</td>\n",
       "      <td>1457747</td>\n",
       "      <td>68.48</td>\n",
       "    </tr>\n",
       "    <tr>\n",
       "      <th>...</th>\n",
       "      <td>...</td>\n",
       "      <td>...</td>\n",
       "      <td>...</td>\n",
       "      <td>...</td>\n",
       "      <td>...</td>\n",
       "      <td>...</td>\n",
       "      <td>...</td>\n",
       "      <td>...</td>\n",
       "      <td>...</td>\n",
       "      <td>...</td>\n",
       "      <td>...</td>\n",
       "      <td>...</td>\n",
       "      <td>...</td>\n",
       "      <td>...</td>\n",
       "    </tr>\n",
       "    <tr>\n",
       "      <th>07-May-2019</th>\n",
       "      <td>INFY</td>\n",
       "      <td>EQ</td>\n",
       "      <td>718.40</td>\n",
       "      <td>720.40</td>\n",
       "      <td>727.90</td>\n",
       "      <td>718.70</td>\n",
       "      <td>724.40</td>\n",
       "      <td>724.55</td>\n",
       "      <td>724.51</td>\n",
       "      <td>5747536</td>\n",
       "      <td>4.164127e+09</td>\n",
       "      <td>104342</td>\n",
       "      <td>3690425</td>\n",
       "      <td>64.21</td>\n",
       "    </tr>\n",
       "    <tr>\n",
       "      <th>08-May-2019</th>\n",
       "      <td>INFY</td>\n",
       "      <td>EQ</td>\n",
       "      <td>724.55</td>\n",
       "      <td>721.00</td>\n",
       "      <td>726.00</td>\n",
       "      <td>716.50</td>\n",
       "      <td>718.95</td>\n",
       "      <td>719.35</td>\n",
       "      <td>721.65</td>\n",
       "      <td>6247642</td>\n",
       "      <td>4.508603e+09</td>\n",
       "      <td>162077</td>\n",
       "      <td>3950857</td>\n",
       "      <td>63.24</td>\n",
       "    </tr>\n",
       "    <tr>\n",
       "      <th>09-May-2019</th>\n",
       "      <td>INFY</td>\n",
       "      <td>EQ</td>\n",
       "      <td>719.35</td>\n",
       "      <td>719.15</td>\n",
       "      <td>730.30</td>\n",
       "      <td>715.80</td>\n",
       "      <td>722.00</td>\n",
       "      <td>721.05</td>\n",
       "      <td>724.48</td>\n",
       "      <td>7396525</td>\n",
       "      <td>5.358635e+09</td>\n",
       "      <td>242225</td>\n",
       "      <td>4808832</td>\n",
       "      <td>65.01</td>\n",
       "    </tr>\n",
       "    <tr>\n",
       "      <th>10-May-2019</th>\n",
       "      <td>INFY</td>\n",
       "      <td>EQ</td>\n",
       "      <td>721.05</td>\n",
       "      <td>720.80</td>\n",
       "      <td>726.00</td>\n",
       "      <td>715.00</td>\n",
       "      <td>716.50</td>\n",
       "      <td>716.85</td>\n",
       "      <td>717.88</td>\n",
       "      <td>8352335</td>\n",
       "      <td>5.995942e+09</td>\n",
       "      <td>181229</td>\n",
       "      <td>5545377</td>\n",
       "      <td>66.39</td>\n",
       "    </tr>\n",
       "    <tr>\n",
       "      <th>13-May-2019</th>\n",
       "      <td>INFY</td>\n",
       "      <td>EQ</td>\n",
       "      <td>716.85</td>\n",
       "      <td>716.55</td>\n",
       "      <td>726.45</td>\n",
       "      <td>712.10</td>\n",
       "      <td>718.00</td>\n",
       "      <td>719.70</td>\n",
       "      <td>720.09</td>\n",
       "      <td>6808993</td>\n",
       "      <td>4.903098e+09</td>\n",
       "      <td>201194</td>\n",
       "      <td>4745909</td>\n",
       "      <td>69.70</td>\n",
       "    </tr>\n",
       "  </tbody>\n",
       "</table>\n",
       "<p>494 rows × 14 columns</p>\n",
       "</div>"
      ],
      "text/plain": [
       "            Symbol Series  Prev Close  Open Price  High Price  Low Price  \\\n",
       "Date                                                                       \n",
       "15-May-2017   INFY     EQ      964.25      963.50      963.50     949.10   \n",
       "16-May-2017   INFY     EQ      951.55      953.10      960.15     946.95   \n",
       "17-May-2017   INFY     EQ      955.00      951.60      958.45     943.85   \n",
       "18-May-2017   INFY     EQ      952.80      943.00      973.90     942.85   \n",
       "19-May-2017   INFY     EQ      961.75      961.50      962.70     947.85   \n",
       "...            ...    ...         ...         ...         ...        ...   \n",
       "07-May-2019   INFY     EQ      718.40      720.40      727.90     718.70   \n",
       "08-May-2019   INFY     EQ      724.55      721.00      726.00     716.50   \n",
       "09-May-2019   INFY     EQ      719.35      719.15      730.30     715.80   \n",
       "10-May-2019   INFY     EQ      721.05      720.80      726.00     715.00   \n",
       "13-May-2019   INFY     EQ      716.85      716.55      726.45     712.10   \n",
       "\n",
       "             Last Price  Close Price  Average Price  Total Traded Quantity  \\\n",
       "Date                                                                         \n",
       "15-May-2017      953.25       951.55         951.49                3648582   \n",
       "16-May-2017      956.00       955.00         952.92                3065084   \n",
       "17-May-2017      952.90       952.80         949.48                1457754   \n",
       "18-May-2017      960.25       961.75         962.61                4028924   \n",
       "19-May-2017      957.40       957.95         954.18                2128698   \n",
       "...                 ...          ...            ...                    ...   \n",
       "07-May-2019      724.40       724.55         724.51                5747536   \n",
       "08-May-2019      718.95       719.35         721.65                6247642   \n",
       "09-May-2019      722.00       721.05         724.48                7396525   \n",
       "10-May-2019      716.50       716.85         717.88                8352335   \n",
       "13-May-2019      718.00       719.70         720.09                6808993   \n",
       "\n",
       "                 Turnover  No. of Trades  Deliverable Qty  \\\n",
       "Date                                                        \n",
       "15-May-2017  3.471580e+09          75335          3052819   \n",
       "16-May-2017  2.920775e+09          71808          1858063   \n",
       "17-May-2017  1.384110e+09          75429           792251   \n",
       "18-May-2017  3.878282e+09         120990          2309450   \n",
       "19-May-2017  2.031155e+09          88897          1457747   \n",
       "...                   ...            ...              ...   \n",
       "07-May-2019  4.164127e+09         104342          3690425   \n",
       "08-May-2019  4.508603e+09         162077          3950857   \n",
       "09-May-2019  5.358635e+09         242225          4808832   \n",
       "10-May-2019  5.995942e+09         181229          5545377   \n",
       "13-May-2019  4.903098e+09         201194          4745909   \n",
       "\n",
       "             % Dly Qt to Traded Qty  \n",
       "Date                                 \n",
       "15-May-2017                   83.67  \n",
       "16-May-2017                   60.62  \n",
       "17-May-2017                   54.35  \n",
       "18-May-2017                   57.32  \n",
       "19-May-2017                   68.48  \n",
       "...                             ...  \n",
       "07-May-2019                   64.21  \n",
       "08-May-2019                   63.24  \n",
       "09-May-2019                   65.01  \n",
       "10-May-2019                   66.39  \n",
       "13-May-2019                   69.70  \n",
       "\n",
       "[494 rows x 14 columns]"
      ]
     },
     "execution_count": 83,
     "metadata": {},
     "output_type": "execute_result"
    }
   ],
   "source": [
    "info= info[info['Series']=='EQ']\n",
    "info=info.set_index('Date')\n",
    "nifty= nifty.set_index('Date')\n",
    "info"
   ]
  },
  {
   "cell_type": "code",
   "execution_count": 84,
   "metadata": {},
   "outputs": [],
   "source": [
    "info.index = pd.to_datetime(info.index)\n",
    "nifty.index = pd.to_datetime(nifty.index)\n",
    "per_change.index = pd.to_datetime(per_change.index)\n"
   ]
  },
  {
   "cell_type": "code",
   "execution_count": 85,
   "metadata": {},
   "outputs": [],
   "source": [
    "per_change_nifty = nifty['Close'].pct_change()*100\n",
    "per_change_info = info['Close Price'].pct_change()*100\n",
    "per_change['pct Nifty'] = per_change_nifty\n",
    "per_change['pct Info'] = per_change_info\n",
    "per_change = per_change.dropna()"
   ]
  },
  {
   "cell_type": "code",
   "execution_count": 86,
   "metadata": {},
   "outputs": [
    {
     "data": {
      "text/html": [
       "<div>\n",
       "<style scoped>\n",
       "    .dataframe tbody tr th:only-of-type {\n",
       "        vertical-align: middle;\n",
       "    }\n",
       "\n",
       "    .dataframe tbody tr th {\n",
       "        vertical-align: top;\n",
       "    }\n",
       "\n",
       "    .dataframe thead th {\n",
       "        text-align: right;\n",
       "    }\n",
       "</style>\n",
       "<table border=\"1\" class=\"dataframe\">\n",
       "  <thead>\n",
       "    <tr style=\"text-align: right;\">\n",
       "      <th></th>\n",
       "      <th>pct Nifty</th>\n",
       "      <th>pct Info</th>\n",
       "    </tr>\n",
       "    <tr>\n",
       "      <th>Date</th>\n",
       "      <th></th>\n",
       "      <th></th>\n",
       "    </tr>\n",
       "  </thead>\n",
       "  <tbody>\n",
       "    <tr>\n",
       "      <th>2018-12-31</th>\n",
       "      <td>0.024402</td>\n",
       "      <td>0.304437</td>\n",
       "    </tr>\n",
       "    <tr>\n",
       "      <th>2019-01-01</th>\n",
       "      <td>0.437743</td>\n",
       "      <td>0.925715</td>\n",
       "    </tr>\n",
       "    <tr>\n",
       "      <th>2019-01-02</th>\n",
       "      <td>-1.077900</td>\n",
       "      <td>0.601459</td>\n",
       "    </tr>\n",
       "    <tr>\n",
       "      <th>2019-01-03</th>\n",
       "      <td>-1.114200</td>\n",
       "      <td>0.014947</td>\n",
       "    </tr>\n",
       "    <tr>\n",
       "      <th>2019-01-04</th>\n",
       "      <td>0.516292</td>\n",
       "      <td>-1.210491</td>\n",
       "    </tr>\n",
       "    <tr>\n",
       "      <th>...</th>\n",
       "      <td>...</td>\n",
       "      <td>...</td>\n",
       "    </tr>\n",
       "    <tr>\n",
       "      <th>2019-05-07</th>\n",
       "      <td>-0.865217</td>\n",
       "      <td>0.856069</td>\n",
       "    </tr>\n",
       "    <tr>\n",
       "      <th>2019-05-08</th>\n",
       "      <td>-1.204133</td>\n",
       "      <td>-0.717687</td>\n",
       "    </tr>\n",
       "    <tr>\n",
       "      <th>2019-05-09</th>\n",
       "      <td>-0.507507</td>\n",
       "      <td>0.236324</td>\n",
       "    </tr>\n",
       "    <tr>\n",
       "      <th>2019-05-10</th>\n",
       "      <td>-0.202623</td>\n",
       "      <td>-0.582484</td>\n",
       "    </tr>\n",
       "    <tr>\n",
       "      <th>2019-05-13</th>\n",
       "      <td>-1.158801</td>\n",
       "      <td>0.397573</td>\n",
       "    </tr>\n",
       "  </tbody>\n",
       "</table>\n",
       "<p>90 rows × 2 columns</p>\n",
       "</div>"
      ],
      "text/plain": [
       "            pct Nifty  pct Info\n",
       "Date                           \n",
       "2018-12-31   0.024402  0.304437\n",
       "2019-01-01   0.437743  0.925715\n",
       "2019-01-02  -1.077900  0.601459\n",
       "2019-01-03  -1.114200  0.014947\n",
       "2019-01-04   0.516292 -1.210491\n",
       "...               ...       ...\n",
       "2019-05-07  -0.865217  0.856069\n",
       "2019-05-08  -1.204133 -0.717687\n",
       "2019-05-09  -0.507507  0.236324\n",
       "2019-05-10  -0.202623 -0.582484\n",
       "2019-05-13  -1.158801  0.397573\n",
       "\n",
       "[90 rows x 2 columns]"
      ]
     },
     "execution_count": 86,
     "metadata": {},
     "output_type": "execute_result"
    }
   ],
   "source": [
    "# slicng just last 3 months data\n",
    "per_change_3month = per_change[-90:]\n",
    "per_change_3month"
   ]
  },
  {
   "cell_type": "code",
   "execution_count": 87,
   "metadata": {},
   "outputs": [
    {
     "data": {
      "image/png": "[encoded data removed]",
      "text/plain": [
       "<Figure size 1080x576 with 1 Axes>"
      ]
     },
     "metadata": {
      "needs_background": "light"
     },
     "output_type": "display_data"
    }
   ],
   "source": [
    "\n",
    "# ploting graph\n",
    "plt.figure(figsize=(15,8))\n",
    "per_change_3month['pct Info'].plot()\n",
    "per_change_3month['pct Nifty'].plot()\n",
    "plt.ylabel(\"Daily Return of INFOSYS and NIFTY\")\n",
    "plt.title('BETA')\n",
    "plt.legend()\n",
    "plt.show()"
   ]
  },
  {
   "cell_type": "code",
   "execution_count": 103,
   "metadata": {},
   "outputs": [
    {
     "data": {
      "text/html": [
       "<table class=\"simpletable\">\n",
       "<caption>OLS Regression Results</caption>\n",
       "<tr>\n",
       "  <th>Dep. Variable:</th>        <td>pct Info</td>     <th>  R-squared (uncentered):</th>      <td>   0.128</td>\n",
       "</tr>\n",
       "<tr>\n",
       "  <th>Model:</th>                   <td>OLS</td>       <th>  Adj. R-squared (uncentered):</th> <td>   0.118</td>\n",
       "</tr>\n",
       "<tr>\n",
       "  <th>Method:</th>             <td>Least Squares</td>  <th>  F-statistic:       </th>          <td>   13.08</td>\n",
       "</tr>\n",
       "<tr>\n",
       "  <th>Date:</th>             <td>Wed, 16 Sep 2020</td> <th>  Prob (F-statistic):</th>          <td>0.000494</td>\n",
       "</tr>\n",
       "<tr>\n",
       "  <th>Time:</th>                 <td>15:46:29</td>     <th>  Log-Likelihood:    </th>          <td> -141.63</td>\n",
       "</tr>\n",
       "<tr>\n",
       "  <th>No. Observations:</th>      <td>    90</td>      <th>  AIC:               </th>          <td>   285.3</td>\n",
       "</tr>\n",
       "<tr>\n",
       "  <th>Df Residuals:</th>          <td>    89</td>      <th>  BIC:               </th>          <td>   287.8</td>\n",
       "</tr>\n",
       "<tr>\n",
       "  <th>Df Model:</th>              <td>     1</td>      <th>                     </th>              <td> </td>   \n",
       "</tr>\n",
       "<tr>\n",
       "  <th>Covariance Type:</th>      <td>nonrobust</td>    <th>                     </th>              <td> </td>   \n",
       "</tr>\n",
       "</table>\n",
       "<table class=\"simpletable\">\n",
       "<tr>\n",
       "      <td></td>         <th>coef</th>     <th>std err</th>      <th>t</th>      <th>P>|t|</th>  <th>[0.025</th>    <th>0.975]</th>  \n",
       "</tr>\n",
       "<tr>\n",
       "  <th>pct Nifty</th> <td>    0.6549</td> <td>    0.181</td> <td>    3.617</td> <td> 0.000</td> <td>    0.295</td> <td>    1.015</td>\n",
       "</tr>\n",
       "</table>\n",
       "<table class=\"simpletable\">\n",
       "<tr>\n",
       "  <th>Omnibus:</th>       <td> 0.150</td> <th>  Durbin-Watson:     </th> <td>   1.821</td>\n",
       "</tr>\n",
       "<tr>\n",
       "  <th>Prob(Omnibus):</th> <td> 0.928</td> <th>  Jarque-Bera (JB):  </th> <td>   0.138</td>\n",
       "</tr>\n",
       "<tr>\n",
       "  <th>Skew:</th>          <td>-0.086</td> <th>  Prob(JB):          </th> <td>   0.933</td>\n",
       "</tr>\n",
       "<tr>\n",
       "  <th>Kurtosis:</th>      <td> 2.915</td> <th>  Cond. No.          </th> <td>    1.00</td>\n",
       "</tr>\n",
       "</table><br/><br/>Warnings:<br/>[1] Standard Errors assume that the covariance matrix of the errors is correctly specified."
      ],
      "text/plain": [
       "<class 'statsmodels.iolib.summary.Summary'>\n",
       "\"\"\"\n",
       "                                 OLS Regression Results                                \n",
       "=======================================================================================\n",
       "Dep. Variable:               pct Info   R-squared (uncentered):                   0.128\n",
       "Model:                            OLS   Adj. R-squared (uncentered):              0.118\n",
       "Method:                 Least Squares   F-statistic:                              13.08\n",
       "Date:                Wed, 16 Sep 2020   Prob (F-statistic):                    0.000494\n",
       "Time:                        15:46:29   Log-Likelihood:                         -141.63\n",
       "No. Observations:                  90   AIC:                                      285.3\n",
       "Df Residuals:                      89   BIC:                                      287.8\n",
       "Df Model:                           1                                                  \n",
       "Covariance Type:            nonrobust                                                  \n",
       "==============================================================================\n",
       "                 coef    std err          t      P>|t|      [0.025      0.975]\n",
       "------------------------------------------------------------------------------\n",
       "pct Nifty      0.6549      0.181      3.617      0.000       0.295       1.015\n",
       "==============================================================================\n",
       "Omnibus:                        0.150   Durbin-Watson:                   1.821\n",
       "Prob(Omnibus):                  0.928   Jarque-Bera (JB):                0.138\n",
       "Skew:                          -0.086   Prob(JB):                        0.933\n",
       "Kurtosis:                       2.915   Cond. No.                         1.00\n",
       "==============================================================================\n",
       "\n",
       "Warnings:\n",
       "[1] Standard Errors assume that the covariance matrix of the errors is correctly specified.\n",
       "\"\"\""
      ]
     },
     "execution_count": 103,
     "metadata": {},
     "output_type": "execute_result"
    }
   ],
   "source": [
    "y = per_change_3month['pct Nifty']\n",
    "X = per_change_3month['pct Info']\n",
    "model = sm.OLS(X,y).fit()\n",
    "model.summary()"
   ]
  },
  {
   "cell_type": "code",
   "execution_count": 99,
   "metadata": {},
   "outputs": [
    {
     "data": {
      "text/plain": [
       "Date\n",
       "2017-05-31    1.871176\n",
       "2017-06-30   -1.036267\n",
       "2017-07-31    5.706310\n",
       "2017-08-31   -1.539423\n",
       "2017-09-30   -1.271474\n",
       "2017-10-31    5.464318\n",
       "2017-11-30   -1.021647\n",
       "2017-12-31    2.969640\n",
       "2018-01-31    4.642152\n",
       "2018-02-28   -4.892785\n",
       "2018-03-31   -3.603498\n",
       "2018-04-30    6.043144\n",
       "2018-05-31    0.013466\n",
       "2018-06-30   -0.167022\n",
       "2018-07-31    5.851201\n",
       "2018-08-31    2.844541\n",
       "2018-09-30   -6.565531\n",
       "2018-10-31   -4.881442\n",
       "2018-11-30    4.665272\n",
       "2018-12-31   -0.041297\n",
       "2019-01-31   -0.234867\n",
       "2019-02-28   -0.318714\n",
       "2019-03-31    7.471307\n",
       "2019-04-30    1.105292\n",
       "2019-05-31   -5.217412\n",
       "Freq: M, Name: pct Nifty, dtype: float64"
      ]
     },
     "execution_count": 99,
     "metadata": {},
     "output_type": "execute_result"
    }
   ],
   "source": [
    "# resampling based on months to get monthly BETA\n",
    "y_monthly = per_change['pct Nifty'].resample('M').sum()\n",
    "y_monthly"
   ]
  },
  {
   "cell_type": "code",
   "execution_count": 100,
   "metadata": {},
   "outputs": [],
   "source": [
    "x_monthly = per_change['pct Info'].resample('M').sum()\n",
    "x_monthly = x_monthly.values.reshape(-1,1)\n",
    "y_monthly = y_monthly.values.reshape(-1,1)"
   ]
  },
  {
   "cell_type": "code",
   "execution_count": 101,
   "metadata": {},
   "outputs": [
    {
     "data": {
      "text/plain": [
       "array([[ 1.87117604],\n",
       "       [-1.03626707],\n",
       "       [ 5.70630976],\n",
       "       [-1.53942327],\n",
       "       [-1.27147398],\n",
       "       [ 5.46431753],\n",
       "       [-1.02164722],\n",
       "       [ 2.9696397 ],\n",
       "       [ 4.64215161],\n",
       "       [-4.89278492],\n",
       "       [-3.60349756],\n",
       "       [ 6.04314363],\n",
       "       [ 0.01346567],\n",
       "       [-0.1670221 ],\n",
       "       [ 5.851201  ],\n",
       "       [ 2.84454066],\n",
       "       [-6.56553071],\n",
       "       [-4.88144188],\n",
       "       [ 4.66527238],\n",
       "       [-0.04129661],\n",
       "       [-0.23486681],\n",
       "       [-0.31871414],\n",
       "       [ 7.47130697],\n",
       "       [ 1.10529246],\n",
       "       [-5.21741242]])"
      ]
     },
     "execution_count": 101,
     "metadata": {},
     "output_type": "execute_result"
    }
   ],
   "source": [
    "y_monthly"
   ]
  },
  {
   "cell_type": "code",
   "execution_count": 105,
   "metadata": {},
   "outputs": [
    {
     "name": "stdout",
     "output_type": "stream",
     "text": [
      "                                 OLS Regression Results                                \n",
      "=======================================================================================\n",
      "Dep. Variable:                      y   R-squared (uncentered):                   0.285\n",
      "Model:                            OLS   Adj. R-squared (uncentered):              0.255\n",
      "Method:                 Least Squares   F-statistic:                              9.571\n",
      "Date:                Wed, 16 Sep 2020   Prob (F-statistic):                     0.00496\n",
      "Time:                        15:48:21   Log-Likelihood:                         -92.103\n",
      "No. Observations:                  25   AIC:                                      186.2\n",
      "Df Residuals:                      24   BIC:                                      187.4\n",
      "Df Model:                           1                                                  \n",
      "Covariance Type:            nonrobust                                                  \n",
      "==============================================================================\n",
      "                 coef    std err          t      P>|t|      [0.025      0.975]\n",
      "------------------------------------------------------------------------------\n",
      "x1             1.5375      0.497      3.094      0.005       0.512       2.563\n",
      "==============================================================================\n",
      "Omnibus:                       33.478   Durbin-Watson:                   2.122\n",
      "Prob(Omnibus):                  0.000   Jarque-Bera (JB):               92.561\n",
      "Skew:                          -2.433   Prob(JB):                     7.96e-21\n",
      "Kurtosis:                      11.073   Cond. No.                         1.00\n",
      "==============================================================================\n",
      "\n",
      "Warnings:\n",
      "[1] Standard Errors assume that the covariance matrix of the errors is correctly specified.\n"
     ]
    }
   ],
   "source": [
    "\n",
    "model = sm.OLS(x_monthly,y_monthly).fit()\n",
    "print(model.summary())\n"
   ]
  },
  {
   "cell_type": "markdown",
   "metadata": {},
   "source": [
    "### BETA  = 1.537 \n",
    " Since BETA value is less greater than one the stock is more volitile than the benchmark (ie NIfty50)\n"
   ]
  },
  {
   "cell_type": "markdown",
   "metadata": {},
   "source": [
    "### if BETA is -ve \n",
    " if the beta value is negative , this implies that if market returns are profitable, then the individual stock's returns are likely to be in loss and vice-versa. Such stocks can be used in portfolios to minimize the potenical loss.\n"
   ]
  },
  {
   "cell_type": "code",
   "execution_count": null,
   "metadata": {},
   "outputs": [],
   "source": [
    " "
   ]
  }
 ],
 "metadata": {
  "kernelspec": {
   "display_name": "Python 3",
   "language": "python",
   "name": "python3"
  },
  "language_info": {
   "codemirror_mode": {
    "name": "ipython",
    "version": 3
   },
   "file_extension": ".py",
   "mimetype": "text/x-python",
   "name": "python",
   "nbconvert_exporter": "python",
   "pygments_lexer": "ipython3",
   "version": "3.8.3"
  }
 },
 "nbformat": 4,
 "nbformat_minor": 4
}
